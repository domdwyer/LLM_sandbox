{
 "cells": [
  {
   "cell_type": "code",
   "execution_count": null,
   "metadata": {},
   "outputs": [],
   "source": [
    "print(\"Hello, World!\")\n",
    "# Load a pre-trained model from Hugging Face\n",
    "classifier = pipeline('sentiment-analysis')\n",
    "\n",
    "# Use the model to make a prediction\n",
    "result = classifier(\"Hello, World!\")\n",
    "print(result)"
   ]
  }
 ],
 "metadata": {
  "language_info": {
   "name": "python"
  }
 },
 "nbformat": 4,
 "nbformat_minor": 2
}
